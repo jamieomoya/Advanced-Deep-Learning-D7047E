{
  "nbformat": 4,
  "nbformat_minor": 0,
  "metadata": {
    "colab": {
      "provenance": []
    },
    "kernelspec": {
      "name": "python3",
      "display_name": "Python 3"
    },
    "language_info": {
      "name": "python"
    },
    "accelerator": "GPU",
    "gpuClass": "standard"
  },
  "cells": [
    {
      "cell_type": "code",
      "source": [
        "import torch\n",
        "import torchvision\n",
        "import torchvision.transforms as transforms\n",
        "\n",
        "import torch.nn as nn\n",
        "import torch.nn.functional as F\n",
        "import torch.optim as optim\n",
        "\n",
        "import matplotlib.pyplot as plt\n",
        "import numpy as np\n",
        "\n",
        "device = torch.device(\"cuda\") if torch.cuda.is_available() else torch.device(\"cpu\")\n",
        "print(device)"
      ],
      "metadata": {
        "id": "JNOIFDF29Im7",
        "colab": {
          "base_uri": "https://localhost:8080/"
        },
        "outputId": "43f9319e-b292-4659-c076-359ab6a5be4c"
      },
      "execution_count": 10,
      "outputs": [
        {
          "output_type": "stream",
          "name": "stdout",
          "text": [
            "cuda\n"
          ]
        }
      ]
    },
    {
      "cell_type": "code",
      "source": [
        "#    [transforms.Resize(32),\n",
        "\n",
        "transform = transforms.Compose(\n",
        "    [\n",
        "     transforms.ToTensor(),\n",
        "     transforms.Normalize((0.5), (0.5))])\n",
        "\n",
        "batch_size = 4\n",
        "\n",
        "trainset = torchvision.datasets.MNIST(root='./data', train=True,\n",
        "                                        download=True, transform=transform)\n",
        "trainloader = torch.utils.data.DataLoader(trainset, batch_size=batch_size,\n",
        "                                          shuffle=True, num_workers=2)\n",
        "\n",
        "testset = torchvision.datasets.MNIST(root='./data', train=False,\n",
        "                                       download=True, transform=transform)\n",
        "testloader = torch.utils.data.DataLoader(testset, batch_size=batch_size,\n",
        "                                         shuffle=False, num_workers=2)\n",
        "print(trainset.data.shape)\n",
        "# classes = ('T-Shirt', 'Trouser', 'Pullover', 'Dress',\n",
        "#            'Coat', 'Sandal', 'Shirt', 'Sneaker', 'Bag', 'Ankle Boot')\n"
      ],
      "metadata": {
        "colab": {
          "base_uri": "https://localhost:8080/"
        },
        "id": "In0qh9AXB1QZ",
        "outputId": "c2a3e7ca-8e37-4779-cf3e-4cae8fc01367"
      },
      "execution_count": 11,
      "outputs": [
        {
          "output_type": "stream",
          "name": "stdout",
          "text": [
            "torch.Size([60000, 28, 28])\n"
          ]
        }
      ]
    },
    {
      "cell_type": "code",
      "source": [
        "class Net(nn.Module):\n",
        "    def __init__(self):\n",
        "        super(Net, self).__init__()\n",
        "        self.conv1 = nn.Conv2d(1, 32, 3, 1)\n",
        "        self.conv2 = nn.Conv2d(32, 64, 3, 1)\n",
        "        self.dropout = nn.Dropout(0.5)\n",
        "        self.fc1 = nn.Linear(9216, 1024)\n",
        "        self.fc2 = nn.Linear(1024, 128)\n",
        "        self.fc3 = nn.Linear(128, 10)\n",
        "\n",
        "    def forward(self, x):\n",
        "        x = self.conv1(x)\n",
        "        x = F.relu(x)\n",
        "        x = self.conv2(x)\n",
        "        x = F.relu(x)\n",
        "        x = F.max_pool2d(x, 2)\n",
        "        x = self.dropout(x)\n",
        "        x = torch.flatten(x, 1)\n",
        "        x = self.fc1(x)\n",
        "        x = F.relu(x)\n",
        "        x = self.dropout(x)\n",
        "        x = self.fc2(x)\n",
        "        x = F.relu(x)\n",
        "        x = self.dropout(x)\n",
        "        x = self.fc3(x)\n",
        "        return x"
      ],
      "metadata": {
        "id": "SNlZUEb9BYJp"
      },
      "execution_count": 12,
      "outputs": []
    },
    {
      "cell_type": "code",
      "source": [
        "def train_model(net, optimizer, criterion, epochs, trainloader):\n",
        "\n",
        "  for epoch in range(epochs):  # loop over the dataset multiple times\n",
        "    running_loss = 0.0\n",
        "    for i, data in enumerate(trainloader, 0):\n",
        "      # if i <= 2000:\n",
        "            # get the inputs; data is a list of [inputs, labels]\n",
        "            inputs, labels = data\n",
        "            inputs = inputs.to(device)\n",
        "            labels = labels.to(device)\n",
        "\n",
        "            # print(i)\n",
        "\n",
        "            # zero the parameter gradients\n",
        "            optimizer.zero_grad()\n",
        "\n",
        "            # forward + backward + optimize\n",
        "            outputs = net(inputs)\n",
        "            loss = criterion(outputs, labels)\n",
        "            loss.backward()\n",
        "            optimizer.step()\n",
        "\n",
        "            # print statistics\n",
        "            running_loss += loss.item()\n",
        "            if i % 2000 == 1999:    # print every 2000 mini-batches\n",
        "                print(f'[{epoch + 1}, {i + 1:5d}] loss: {running_loss / 2000:.3f}')\n",
        "                running_loss = 0.0\n",
        "\n",
        "  print('Finished Training')\n",
        "\n"
      ],
      "metadata": {
        "id": "pBuTZGlUVnJN"
      },
      "execution_count": 13,
      "outputs": []
    },
    {
      "cell_type": "code",
      "source": [
        "def predict_test(testloader):\n",
        "  correct = 0\n",
        "  total = 0\n",
        "  # since we're not training, we don't need to calculate the gradients for our outputs\n",
        "  with torch.no_grad():\n",
        "      for data in testloader:\n",
        "          images, labels = data\n",
        "          images = images.to(device)\n",
        "          labels = labels.to(device)\n",
        "          # calculate outputs by running images through the network\n",
        "          net.to(device)\n",
        "          outputs = net(images)\n",
        "          outputs = outputs.to(device)\n",
        "          # the class with the highest energy is what we choose as prediction\n",
        "          _, predicted = torch.max(outputs.data, 1)\n",
        "          total += labels.size(0)\n",
        "          correct += (predicted == labels).sum().item()\n",
        "\n",
        "  print(f'Accuracy of the network on the 10000 test images: {100 * correct // total} %')"
      ],
      "metadata": {
        "id": "fGY3sKgQap2L"
      },
      "execution_count": 14,
      "outputs": []
    },
    {
      "cell_type": "markdown",
      "source": [
        "### Use ADAM as Optimizer\n"
      ],
      "metadata": {
        "id": "XCiyaDm7aNne"
      }
    },
    {
      "cell_type": "code",
      "source": [
        "net = Net().to(device)\n",
        "criterion = nn.CrossEntropyLoss().to(device)\n",
        "optimizer_adam = optim.Adam(net.parameters(), lr=0.0001)\n",
        "train_model(net, optimizer_adam, criterion, 5, trainloader) #Change back to 5\n",
        "\n",
        "predict_test(testloader)"
      ],
      "metadata": {
        "colab": {
          "base_uri": "https://localhost:8080/"
        },
        "id": "jtbXz5pyUSEd",
        "outputId": "5c5ff7ff-fafc-446f-fe34-f6668f6d1357"
      },
      "execution_count": 15,
      "outputs": [
        {
          "output_type": "stream",
          "name": "stdout",
          "text": [
            "[1,  2000] loss: 0.740\n",
            "[1,  4000] loss: 0.254\n",
            "[1,  6000] loss: 0.170\n",
            "[1,  8000] loss: 0.139\n",
            "[1, 10000] loss: 0.124\n",
            "[1, 12000] loss: 0.119\n",
            "[1, 14000] loss: 0.107\n",
            "[2,  2000] loss: 0.080\n",
            "[2,  4000] loss: 0.087\n",
            "[2,  6000] loss: 0.076\n",
            "[2,  8000] loss: 0.071\n",
            "[2, 10000] loss: 0.070\n",
            "[2, 12000] loss: 0.077\n",
            "[2, 14000] loss: 0.078\n",
            "[3,  2000] loss: 0.062\n",
            "[3,  4000] loss: 0.056\n",
            "[3,  6000] loss: 0.055\n",
            "[3,  8000] loss: 0.063\n",
            "[3, 10000] loss: 0.053\n",
            "[3, 12000] loss: 0.057\n",
            "[3, 14000] loss: 0.060\n",
            "[4,  2000] loss: 0.041\n",
            "[4,  4000] loss: 0.043\n",
            "[4,  6000] loss: 0.055\n",
            "[4,  8000] loss: 0.044\n",
            "[4, 10000] loss: 0.046\n",
            "[4, 12000] loss: 0.046\n",
            "[4, 14000] loss: 0.055\n",
            "[5,  2000] loss: 0.041\n",
            "[5,  4000] loss: 0.042\n",
            "[5,  6000] loss: 0.046\n",
            "[5,  8000] loss: 0.040\n",
            "[5, 10000] loss: 0.035\n",
            "[5, 12000] loss: 0.047\n",
            "[5, 14000] loss: 0.042\n",
            "Finished Training\n",
            "Accuracy of the network on the 10000 test images: 98 %\n"
          ]
        }
      ]
    },
    {
      "cell_type": "markdown",
      "source": [],
      "metadata": {
        "id": "9P3I84A_DDvW"
      }
    },
    {
      "cell_type": "code",
      "source": [
        "torch.save(net, 'net.pth')"
      ],
      "metadata": {
        "id": "K-dXU1oYh9dR"
      },
      "execution_count": 16,
      "outputs": []
    },
    {
      "cell_type": "code",
      "source": [
        "from torchvision.transforms.transforms import Grayscale\n",
        "from posixpath import split\n",
        "transform = transforms.Compose(\n",
        "    [transforms.Resize(28),\n",
        "     transforms.Grayscale(num_output_channels=1),\n",
        "     transforms.ToTensor(),\n",
        "     transforms.Normalize((0.5), (0.5))])\n",
        "\n",
        "batch_size = 4\n",
        "\n",
        "trainsetSVHN = torchvision.datasets.SVHN('datasets/SVHN/train/', split='train',\n",
        "                                        download=True, transform=transform)\n",
        "trainloaderSVHN = torch.utils.data.DataLoader(trainsetSVHN, batch_size=batch_size,\n",
        "                                          shuffle=True, num_workers=2)\n",
        "\n",
        "testsetSVHN = torchvision.datasets.SVHN('datasets/SVHN/test/', split='test',\n",
        "                                       download=True, transform=transform)\n",
        "testloaderSVHN = torch.utils.data.DataLoader(testsetSVHN, batch_size=batch_size,\n",
        "                                         shuffle=False, num_workers=2)\n",
        "print(trainsetSVHN.data.shape)\n",
        "print(testsetSVHN.data.shape)"
      ],
      "metadata": {
        "colab": {
          "base_uri": "https://localhost:8080/"
        },
        "id": "ncshJTk_GP3w",
        "outputId": "3c6e36d1-afe3-41f0-d0ad-20dbf0fcdd2b"
      },
      "execution_count": 17,
      "outputs": [
        {
          "output_type": "stream",
          "name": "stdout",
          "text": [
            "Downloading http://ufldl.stanford.edu/housenumbers/train_32x32.mat to datasets/SVHN/train/train_32x32.mat\n"
          ]
        },
        {
          "output_type": "stream",
          "name": "stderr",
          "text": [
            "100%|██████████| 182040794/182040794 [00:04<00:00, 45060709.14it/s]\n"
          ]
        },
        {
          "output_type": "stream",
          "name": "stdout",
          "text": [
            "Downloading http://ufldl.stanford.edu/housenumbers/test_32x32.mat to datasets/SVHN/test/test_32x32.mat\n"
          ]
        },
        {
          "output_type": "stream",
          "name": "stderr",
          "text": [
            "100%|██████████| 64275384/64275384 [00:02<00:00, 29490983.68it/s]\n"
          ]
        },
        {
          "output_type": "stream",
          "name": "stdout",
          "text": [
            "(73257, 3, 32, 32)\n",
            "(26032, 3, 32, 32)\n"
          ]
        }
      ]
    },
    {
      "cell_type": "code",
      "source": [
        "loaded_model = torch.load('net.pth')\n",
        "loaded_model.to(device)\n",
        "loaded_model.eval()"
      ],
      "metadata": {
        "colab": {
          "base_uri": "https://localhost:8080/"
        },
        "id": "qjZEJ_2aDX9f",
        "outputId": "c3c398fc-9c28-4a25-fff9-c32a70b9afa5"
      },
      "execution_count": 18,
      "outputs": [
        {
          "output_type": "execute_result",
          "data": {
            "text/plain": [
              "Net(\n",
              "  (conv1): Conv2d(1, 32, kernel_size=(3, 3), stride=(1, 1))\n",
              "  (conv2): Conv2d(32, 64, kernel_size=(3, 3), stride=(1, 1))\n",
              "  (dropout): Dropout(p=0.5, inplace=False)\n",
              "  (fc1): Linear(in_features=9216, out_features=1024, bias=True)\n",
              "  (fc2): Linear(in_features=1024, out_features=128, bias=True)\n",
              "  (fc3): Linear(in_features=128, out_features=10, bias=True)\n",
              ")"
            ]
          },
          "metadata": {},
          "execution_count": 18
        }
      ]
    },
    {
      "cell_type": "code",
      "source": [
        "criterion = nn.CrossEntropyLoss().to(device)\n",
        "optimizer_adam = optim.Adam(net.parameters(), lr=0.0001)\n",
        "train_model(loaded_model, optimizer_adam, criterion, 5, trainloaderSVHN)\n",
        "\n",
        "predict_test(testloaderSVHN)"
      ],
      "metadata": {
        "colab": {
          "base_uri": "https://localhost:8080/"
        },
        "id": "IvNk5OzpDfJb",
        "outputId": "c694f64e-1eb2-43f5-b337-0e88db629de2"
      },
      "execution_count": 19,
      "outputs": [
        {
          "output_type": "stream",
          "name": "stdout",
          "text": [
            "[1,  2000] loss: 3.130\n",
            "[1,  4000] loss: 3.072\n",
            "[1,  6000] loss: 3.068\n",
            "[1,  8000] loss: 3.067\n",
            "[1, 10000] loss: 3.069\n",
            "[1, 12000] loss: 3.089\n",
            "[1, 14000] loss: 3.055\n",
            "[1, 16000] loss: 3.056\n",
            "[1, 18000] loss: 3.066\n",
            "[2,  2000] loss: 3.042\n",
            "[2,  4000] loss: 3.047\n",
            "[2,  6000] loss: 3.071\n",
            "[2,  8000] loss: 3.054\n",
            "[2, 10000] loss: 3.107\n",
            "[2, 12000] loss: 3.085\n",
            "[2, 14000] loss: 3.051\n",
            "[2, 16000] loss: 3.119\n",
            "[2, 18000] loss: 3.104\n",
            "[3,  2000] loss: 3.049\n",
            "[3,  4000] loss: 3.060\n",
            "[3,  6000] loss: 3.059\n",
            "[3,  8000] loss: 3.085\n",
            "[3, 10000] loss: 3.089\n",
            "[3, 12000] loss: 3.111\n",
            "[3, 14000] loss: 3.084\n",
            "[3, 16000] loss: 3.076\n",
            "[3, 18000] loss: 3.057\n",
            "[4,  2000] loss: 3.078\n",
            "[4,  4000] loss: 3.067\n",
            "[4,  6000] loss: 3.059\n",
            "[4,  8000] loss: 3.085\n",
            "[4, 10000] loss: 3.087\n",
            "[4, 12000] loss: 3.059\n",
            "[4, 14000] loss: 3.075\n",
            "[4, 16000] loss: 3.078\n",
            "[4, 18000] loss: 3.071\n",
            "[5,  2000] loss: 3.050\n",
            "[5,  4000] loss: 3.071\n",
            "[5,  6000] loss: 3.104\n",
            "[5,  8000] loss: 3.076\n",
            "[5, 10000] loss: 3.092\n",
            "[5, 12000] loss: 3.049\n",
            "[5, 14000] loss: 3.081\n",
            "[5, 16000] loss: 3.068\n",
            "[5, 18000] loss: 3.082\n",
            "Finished Training\n",
            "Accuracy of the network on the 10000 test images: 20 %\n"
          ]
        }
      ]
    },
    {
      "cell_type": "code",
      "source": [],
      "metadata": {
        "id": "pqfUecuEHBD5"
      },
      "execution_count": 19,
      "outputs": []
    }
  ]
}